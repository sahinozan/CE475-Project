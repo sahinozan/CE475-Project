{
 "cells": [
  {
   "cell_type": "code",
   "execution_count": 29,
   "metadata": {
    "collapsed": true,
    "pycharm": {
     "name": "#%%\n"
    }
   },
   "outputs": [],
   "source": [
    "import pandas as pd\n",
    "from sklearn.linear_model import LinearRegression"
   ]
  },
  {
   "cell_type": "code",
   "execution_count": 30,
   "outputs": [
    {
     "data": {
      "text/plain": "   x1  x2  x3  x4  x5  x6       Y\n0   1  37  12  65 -18   1     1.0\n1  27  14   6  85  11  27   -24.0\n2  34  13  14  63 -16  34  4092.0\n3   5  18  24  83  -4   5   121.0\n4  31  44  10  57  -7  31  2441.0",
      "text/html": "<div>\n<style scoped>\n    .dataframe tbody tr th:only-of-type {\n        vertical-align: middle;\n    }\n\n    .dataframe tbody tr th {\n        vertical-align: top;\n    }\n\n    .dataframe thead th {\n        text-align: right;\n    }\n</style>\n<table border=\"1\" class=\"dataframe\">\n  <thead>\n    <tr style=\"text-align: right;\">\n      <th></th>\n      <th>x1</th>\n      <th>x2</th>\n      <th>x3</th>\n      <th>x4</th>\n      <th>x5</th>\n      <th>x6</th>\n      <th>Y</th>\n    </tr>\n  </thead>\n  <tbody>\n    <tr>\n      <th>0</th>\n      <td>1</td>\n      <td>37</td>\n      <td>12</td>\n      <td>65</td>\n      <td>-18</td>\n      <td>1</td>\n      <td>1.0</td>\n    </tr>\n    <tr>\n      <th>1</th>\n      <td>27</td>\n      <td>14</td>\n      <td>6</td>\n      <td>85</td>\n      <td>11</td>\n      <td>27</td>\n      <td>-24.0</td>\n    </tr>\n    <tr>\n      <th>2</th>\n      <td>34</td>\n      <td>13</td>\n      <td>14</td>\n      <td>63</td>\n      <td>-16</td>\n      <td>34</td>\n      <td>4092.0</td>\n    </tr>\n    <tr>\n      <th>3</th>\n      <td>5</td>\n      <td>18</td>\n      <td>24</td>\n      <td>83</td>\n      <td>-4</td>\n      <td>5</td>\n      <td>121.0</td>\n    </tr>\n    <tr>\n      <th>4</th>\n      <td>31</td>\n      <td>44</td>\n      <td>10</td>\n      <td>57</td>\n      <td>-7</td>\n      <td>31</td>\n      <td>2441.0</td>\n    </tr>\n  </tbody>\n</table>\n</div>"
     },
     "execution_count": 30,
     "metadata": {},
     "output_type": "execute_result"
    }
   ],
   "source": [
    "data = pd.read_csv('ce475_project_data.csv', delimiter=';')\n",
    "data.head()"
   ],
   "metadata": {
    "collapsed": false,
    "pycharm": {
     "name": "#%%\n"
    }
   }
  },
  {
   "cell_type": "code",
   "execution_count": 31,
   "outputs": [
    {
     "name": "stdout",
     "output_type": "stream",
     "text": [
      "<class 'pandas.core.frame.DataFrame'>\n",
      "RangeIndex: 120 entries, 0 to 119\n",
      "Data columns (total 7 columns):\n",
      " #   Column  Non-Null Count  Dtype  \n",
      "---  ------  --------------  -----  \n",
      " 0   x1      120 non-null    int64  \n",
      " 1   x2      120 non-null    int64  \n",
      " 2   x3      120 non-null    int64  \n",
      " 3   x4      120 non-null    int64  \n",
      " 4   x5      120 non-null    int64  \n",
      " 5   x6      120 non-null    int64  \n",
      " 6   Y       100 non-null    float64\n",
      "dtypes: float64(1), int64(6)\n",
      "memory usage: 6.7 KB\n"
     ]
    }
   ],
   "source": [
    "data.info()"
   ],
   "metadata": {
    "collapsed": false,
    "pycharm": {
     "name": "#%%\n"
    }
   }
  },
  {
   "cell_type": "code",
   "execution_count": 32,
   "outputs": [
    {
     "data": {
      "text/plain": "(120, 7)"
     },
     "execution_count": 32,
     "metadata": {},
     "output_type": "execute_result"
    }
   ],
   "source": [
    "data.shape"
   ],
   "metadata": {
    "collapsed": false,
    "pycharm": {
     "name": "#%%\n"
    }
   }
  },
  {
   "cell_type": "code",
   "execution_count": 33,
   "outputs": [
    {
     "data": {
      "text/plain": "x1     0\nx2     0\nx3     0\nx4     0\nx5     0\nx6     0\nY     20\ndtype: int64"
     },
     "execution_count": 33,
     "metadata": {},
     "output_type": "execute_result"
    }
   ],
   "source": [
    "data.isna().sum()"
   ],
   "metadata": {
    "collapsed": false,
    "pycharm": {
     "name": "#%%\n"
    }
   }
  },
  {
   "cell_type": "code",
   "execution_count": 34,
   "outputs": [
    {
     "data": {
      "text/plain": "<AxesSubplot:>"
     },
     "execution_count": 34,
     "metadata": {},
     "output_type": "execute_result"
    },
    {
     "data": {
      "text/plain": "<Figure size 432x288 with 1 Axes>",
      "image/png": "[encoded data removed]"
     },
     "metadata": {
      "needs_background": "light"
     },
     "output_type": "display_data"
    }
   ],
   "source": [
    "data.isna().sum().plot(kind='bar')"
   ],
   "metadata": {
    "collapsed": false,
    "pycharm": {
     "name": "#%%\n"
    }
   }
  },
  {
   "cell_type": "code",
   "execution_count": 35,
   "outputs": [
    {
     "data": {
      "text/plain": "     x1  x2  x3  x4  x5  x6   Y\n100   8  46  30  32   5   8 NaN\n101  10  23  16  27  13  10 NaN\n102   6   9  28  76 -20   6 NaN\n103  11  31   3  46 -11  11 NaN\n104  12  27   0  98  20  12 NaN",
      "text/html": "<div>\n<style scoped>\n    .dataframe tbody tr th:only-of-type {\n        vertical-align: middle;\n    }\n\n    .dataframe tbody tr th {\n        vertical-align: top;\n    }\n\n    .dataframe thead th {\n        text-align: right;\n    }\n</style>\n<table border=\"1\" class=\"dataframe\">\n  <thead>\n    <tr style=\"text-align: right;\">\n      <th></th>\n      <th>x1</th>\n      <th>x2</th>\n      <th>x3</th>\n      <th>x4</th>\n      <th>x5</th>\n      <th>x6</th>\n      <th>Y</th>\n    </tr>\n  </thead>\n  <tbody>\n    <tr>\n      <th>100</th>\n      <td>8</td>\n      <td>46</td>\n      <td>30</td>\n      <td>32</td>\n      <td>5</td>\n      <td>8</td>\n      <td>NaN</td>\n    </tr>\n    <tr>\n      <th>101</th>\n      <td>10</td>\n      <td>23</td>\n      <td>16</td>\n      <td>27</td>\n      <td>13</td>\n      <td>10</td>\n      <td>NaN</td>\n    </tr>\n    <tr>\n      <th>102</th>\n      <td>6</td>\n      <td>9</td>\n      <td>28</td>\n      <td>76</td>\n      <td>-20</td>\n      <td>6</td>\n      <td>NaN</td>\n    </tr>\n    <tr>\n      <th>103</th>\n      <td>11</td>\n      <td>31</td>\n      <td>3</td>\n      <td>46</td>\n      <td>-11</td>\n      <td>11</td>\n      <td>NaN</td>\n    </tr>\n    <tr>\n      <th>104</th>\n      <td>12</td>\n      <td>27</td>\n      <td>0</td>\n      <td>98</td>\n      <td>20</td>\n      <td>12</td>\n      <td>NaN</td>\n    </tr>\n  </tbody>\n</table>\n</div>"
     },
     "execution_count": 35,
     "metadata": {},
     "output_type": "execute_result"
    }
   ],
   "source": [
    "test_data = data[data['Y'].isnull()].copy()\n",
    "test_data.head()"
   ],
   "metadata": {
    "collapsed": false,
    "pycharm": {
     "name": "#%%\n"
    }
   }
  },
  {
   "cell_type": "code",
   "execution_count": 36,
   "outputs": [
    {
     "data": {
      "text/plain": "(20, 7)"
     },
     "execution_count": 36,
     "metadata": {},
     "output_type": "execute_result"
    }
   ],
   "source": [
    "test_data.shape"
   ],
   "metadata": {
    "collapsed": false,
    "pycharm": {
     "name": "#%%\n"
    }
   }
  },
  {
   "cell_type": "code",
   "execution_count": 37,
   "outputs": [
    {
     "data": {
      "text/plain": "   x1  x2  x3  x4  x5  x6       Y\n0   1  37  12  65 -18   1     1.0\n1  27  14   6  85  11  27   -24.0\n2  34  13  14  63 -16  34  4092.0\n3   5  18  24  83  -4   5   121.0\n4  31  44  10  57  -7  31  2441.0",
      "text/html": "<div>\n<style scoped>\n    .dataframe tbody tr th:only-of-type {\n        vertical-align: middle;\n    }\n\n    .dataframe tbody tr th {\n        vertical-align: top;\n    }\n\n    .dataframe thead th {\n        text-align: right;\n    }\n</style>\n<table border=\"1\" class=\"dataframe\">\n  <thead>\n    <tr style=\"text-align: right;\">\n      <th></th>\n      <th>x1</th>\n      <th>x2</th>\n      <th>x3</th>\n      <th>x4</th>\n      <th>x5</th>\n      <th>x6</th>\n      <th>Y</th>\n    </tr>\n  </thead>\n  <tbody>\n    <tr>\n      <th>0</th>\n      <td>1</td>\n      <td>37</td>\n      <td>12</td>\n      <td>65</td>\n      <td>-18</td>\n      <td>1</td>\n      <td>1.0</td>\n    </tr>\n    <tr>\n      <th>1</th>\n      <td>27</td>\n      <td>14</td>\n      <td>6</td>\n      <td>85</td>\n      <td>11</td>\n      <td>27</td>\n      <td>-24.0</td>\n    </tr>\n    <tr>\n      <th>2</th>\n      <td>34</td>\n      <td>13</td>\n      <td>14</td>\n      <td>63</td>\n      <td>-16</td>\n      <td>34</td>\n      <td>4092.0</td>\n    </tr>\n    <tr>\n      <th>3</th>\n      <td>5</td>\n      <td>18</td>\n      <td>24</td>\n      <td>83</td>\n      <td>-4</td>\n      <td>5</td>\n      <td>121.0</td>\n    </tr>\n    <tr>\n      <th>4</th>\n      <td>31</td>\n      <td>44</td>\n      <td>10</td>\n      <td>57</td>\n      <td>-7</td>\n      <td>31</td>\n      <td>2441.0</td>\n    </tr>\n  </tbody>\n</table>\n</div>"
     },
     "execution_count": 37,
     "metadata": {},
     "output_type": "execute_result"
    }
   ],
   "source": [
    "train_data = data[data['Y'].notnull()]\n",
    "train_data.head()"
   ],
   "metadata": {
    "collapsed": false,
    "pycharm": {
     "name": "#%%\n"
    }
   }
  },
  {
   "cell_type": "code",
   "execution_count": 38,
   "outputs": [
    {
     "data": {
      "text/plain": "(100, 7)"
     },
     "execution_count": 38,
     "metadata": {},
     "output_type": "execute_result"
    }
   ],
   "source": [
    "train_data.shape"
   ],
   "metadata": {
    "collapsed": false,
    "pycharm": {
     "name": "#%%\n"
    }
   }
  },
  {
   "cell_type": "code",
   "execution_count": 39,
   "outputs": [],
   "source": [
    "x_train = train_data.drop(['Y'], axis=1)\n",
    "y_train = train_data['Y']"
   ],
   "metadata": {
    "collapsed": false,
    "pycharm": {
     "name": "#%%\n"
    }
   }
  },
  {
   "cell_type": "code",
   "execution_count": 40,
   "outputs": [
    {
     "data": {
      "text/plain": "   x1  x2  x3  x4  x5  x6\n0   1  37  12  65 -18   1\n1  27  14   6  85  11  27\n2  34  13  14  63 -16  34\n3   5  18  24  83  -4   5\n4  31  44  10  57  -7  31",
      "text/html": "<div>\n<style scoped>\n    .dataframe tbody tr th:only-of-type {\n        vertical-align: middle;\n    }\n\n    .dataframe tbody tr th {\n        vertical-align: top;\n    }\n\n    .dataframe thead th {\n        text-align: right;\n    }\n</style>\n<table border=\"1\" class=\"dataframe\">\n  <thead>\n    <tr style=\"text-align: right;\">\n      <th></th>\n      <th>x1</th>\n      <th>x2</th>\n      <th>x3</th>\n      <th>x4</th>\n      <th>x5</th>\n      <th>x6</th>\n    </tr>\n  </thead>\n  <tbody>\n    <tr>\n      <th>0</th>\n      <td>1</td>\n      <td>37</td>\n      <td>12</td>\n      <td>65</td>\n      <td>-18</td>\n      <td>1</td>\n    </tr>\n    <tr>\n      <th>1</th>\n      <td>27</td>\n      <td>14</td>\n      <td>6</td>\n      <td>85</td>\n      <td>11</td>\n      <td>27</td>\n    </tr>\n    <tr>\n      <th>2</th>\n      <td>34</td>\n      <td>13</td>\n      <td>14</td>\n      <td>63</td>\n      <td>-16</td>\n      <td>34</td>\n    </tr>\n    <tr>\n      <th>3</th>\n      <td>5</td>\n      <td>18</td>\n      <td>24</td>\n      <td>83</td>\n      <td>-4</td>\n      <td>5</td>\n    </tr>\n    <tr>\n      <th>4</th>\n      <td>31</td>\n      <td>44</td>\n      <td>10</td>\n      <td>57</td>\n      <td>-7</td>\n      <td>31</td>\n    </tr>\n  </tbody>\n</table>\n</div>"
     },
     "execution_count": 40,
     "metadata": {},
     "output_type": "execute_result"
    }
   ],
   "source": [
    "x_train.head()"
   ],
   "metadata": {
    "collapsed": false,
    "pycharm": {
     "name": "#%%\n"
    }
   }
  },
  {
   "cell_type": "code",
   "execution_count": 41,
   "outputs": [
    {
     "data": {
      "text/plain": "0       1.0\n1     -24.0\n2    4092.0\n3     121.0\n4    2441.0\nName: Y, dtype: float64"
     },
     "execution_count": 41,
     "metadata": {},
     "output_type": "execute_result"
    }
   ],
   "source": [
    "y_train.head()"
   ],
   "metadata": {
    "collapsed": false,
    "pycharm": {
     "name": "#%%\n"
    }
   }
  },
  {
   "cell_type": "code",
   "execution_count": 42,
   "outputs": [
    {
     "data": {
      "text/plain": "LinearRegression()",
      "text/html": "<style>#sk-container-id-1 {color: black;background-color: white;}#sk-container-id-1 pre{padding: 0;}#sk-container-id-1 div.sk-toggleable {background-color: white;}#sk-container-id-1 label.sk-toggleable__label {cursor: pointer;display: block;width: 100%;margin-bottom: 0;padding: 0.3em;box-sizing: border-box;text-align: center;}#sk-container-id-1 label.sk-toggleable__label-arrow:before {content: \"▸\";float: left;margin-right: 0.25em;color: #696969;}#sk-container-id-1 label.sk-toggleable__label-arrow:hover:before {color: black;}#sk-container-id-1 div.sk-estimator:hover label.sk-toggleable__label-arrow:before {color: black;}#sk-container-id-1 div.sk-toggleable__content {max-height: 0;max-width: 0;overflow: hidden;text-align: left;background-color: #f0f8ff;}#sk-container-id-1 div.sk-toggleable__content pre {margin: 0.2em;color: black;border-radius: 0.25em;background-color: #f0f8ff;}#sk-container-id-1 input.sk-toggleable__control:checked~div.sk-toggleable__content {max-height: 200px;max-width: 100%;overflow: auto;}#sk-container-id-1 input.sk-toggleable__control:checked~label.sk-toggleable__label-arrow:before {content: \"▾\";}#sk-container-id-1 div.sk-estimator input.sk-toggleable__control:checked~label.sk-toggleable__label {background-color: #d4ebff;}#sk-container-id-1 div.sk-label input.sk-toggleable__control:checked~label.sk-toggleable__label {background-color: #d4ebff;}#sk-container-id-1 input.sk-hidden--visually {border: 0;clip: rect(1px 1px 1px 1px);clip: rect(1px, 1px, 1px, 1px);height: 1px;margin: -1px;overflow: hidden;padding: 0;position: absolute;width: 1px;}#sk-container-id-1 div.sk-estimator {font-family: monospace;background-color: #f0f8ff;border: 1px dotted black;border-radius: 0.25em;box-sizing: border-box;margin-bottom: 0.5em;}#sk-container-id-1 div.sk-estimator:hover {background-color: #d4ebff;}#sk-container-id-1 div.sk-parallel-item::after {content: \"\";width: 100%;border-bottom: 1px solid gray;flex-grow: 1;}#sk-container-id-1 div.sk-label:hover label.sk-toggleable__label {background-color: #d4ebff;}#sk-container-id-1 div.sk-serial::before {content: \"\";position: absolute;border-left: 1px solid gray;box-sizing: border-box;top: 0;bottom: 0;left: 50%;z-index: 0;}#sk-container-id-1 div.sk-serial {display: flex;flex-direction: column;align-items: center;background-color: white;padding-right: 0.2em;padding-left: 0.2em;position: relative;}#sk-container-id-1 div.sk-item {position: relative;z-index: 1;}#sk-container-id-1 div.sk-parallel {display: flex;align-items: stretch;justify-content: center;background-color: white;position: relative;}#sk-container-id-1 div.sk-item::before, #sk-container-id-1 div.sk-parallel-item::before {content: \"\";position: absolute;border-left: 1px solid gray;box-sizing: border-box;top: 0;bottom: 0;left: 50%;z-index: -1;}#sk-container-id-1 div.sk-parallel-item {display: flex;flex-direction: column;z-index: 1;position: relative;background-color: white;}#sk-container-id-1 div.sk-parallel-item:first-child::after {align-self: flex-end;width: 50%;}#sk-container-id-1 div.sk-parallel-item:last-child::after {align-self: flex-start;width: 50%;}#sk-container-id-1 div.sk-parallel-item:only-child::after {width: 0;}#sk-container-id-1 div.sk-dashed-wrapped {border: 1px dashed gray;margin: 0 0.4em 0.5em 0.4em;box-sizing: border-box;padding-bottom: 0.4em;background-color: white;}#sk-container-id-1 div.sk-label label {font-family: monospace;font-weight: bold;display: inline-block;line-height: 1.2em;}#sk-container-id-1 div.sk-label-container {text-align: center;}#sk-container-id-1 div.sk-container {/* jupyter's `normalize.less` sets `[hidden] { display: none; }` but bootstrap.min.css set `[hidden] { display: none !important; }` so we also need the `!important` here to be able to override the default hidden behavior on the sphinx rendered scikit-learn.org. See: https://github.com/scikit-learn/scikit-learn/issues/21755 */display: inline-block !important;position: relative;}#sk-container-id-1 div.sk-text-repr-fallback {display: none;}</style><div id=\"sk-container-id-1\" class=\"sk-top-container\"><div class=\"sk-text-repr-fallback\"><pre>LinearRegression()</pre><b>In a Jupyter environment, please rerun this cell to show the HTML representation or trust the notebook. <br />On GitHub, the HTML representation is unable to render, please try loading this page with nbviewer.org.</b></div><div class=\"sk-container\" hidden><div class=\"sk-item\"><div class=\"sk-estimator sk-toggleable\"><input class=\"sk-toggleable__control sk-hidden--visually\" id=\"sk-estimator-id-1\" type=\"checkbox\" checked><label for=\"sk-estimator-id-1\" class=\"sk-toggleable__label sk-toggleable__label-arrow\">LinearRegression</label><div class=\"sk-toggleable__content\"><pre>LinearRegression()</pre></div></div></div></div></div>"
     },
     "execution_count": 42,
     "metadata": {},
     "output_type": "execute_result"
    }
   ],
   "source": [
    "lr = LinearRegression()\n",
    "lr.fit(x_train, y_train)"
   ],
   "metadata": {
    "collapsed": false,
    "pycharm": {
     "name": "#%%\n"
    }
   }
  },
  {
   "cell_type": "code",
   "execution_count": 43,
   "outputs": [],
   "source": [
    "x_test = test_data.drop(['Y'], axis=1).copy()\n",
    "y_test = test_data['Y'].copy()"
   ],
   "metadata": {
    "collapsed": false,
    "pycharm": {
     "name": "#%%\n"
    }
   }
  },
  {
   "cell_type": "code",
   "execution_count": 44,
   "outputs": [
    {
     "data": {
      "text/plain": "     x1  x2  x3  x4  x5  x6\n100   8  46  30  32   5   8\n101  10  23  16  27  13  10\n102   6   9  28  76 -20   6\n103  11  31   3  46 -11  11\n104  12  27   0  98  20  12",
      "text/html": "<div>\n<style scoped>\n    .dataframe tbody tr th:only-of-type {\n        vertical-align: middle;\n    }\n\n    .dataframe tbody tr th {\n        vertical-align: top;\n    }\n\n    .dataframe thead th {\n        text-align: right;\n    }\n</style>\n<table border=\"1\" class=\"dataframe\">\n  <thead>\n    <tr style=\"text-align: right;\">\n      <th></th>\n      <th>x1</th>\n      <th>x2</th>\n      <th>x3</th>\n      <th>x4</th>\n      <th>x5</th>\n      <th>x6</th>\n    </tr>\n  </thead>\n  <tbody>\n    <tr>\n      <th>100</th>\n      <td>8</td>\n      <td>46</td>\n      <td>30</td>\n      <td>32</td>\n      <td>5</td>\n      <td>8</td>\n    </tr>\n    <tr>\n      <th>101</th>\n      <td>10</td>\n      <td>23</td>\n      <td>16</td>\n      <td>27</td>\n      <td>13</td>\n      <td>10</td>\n    </tr>\n    <tr>\n      <th>102</th>\n      <td>6</td>\n      <td>9</td>\n      <td>28</td>\n      <td>76</td>\n      <td>-20</td>\n      <td>6</td>\n    </tr>\n    <tr>\n      <th>103</th>\n      <td>11</td>\n      <td>31</td>\n      <td>3</td>\n      <td>46</td>\n      <td>-11</td>\n      <td>11</td>\n    </tr>\n    <tr>\n      <th>104</th>\n      <td>12</td>\n      <td>27</td>\n      <td>0</td>\n      <td>98</td>\n      <td>20</td>\n      <td>12</td>\n    </tr>\n  </tbody>\n</table>\n</div>"
     },
     "execution_count": 44,
     "metadata": {},
     "output_type": "execute_result"
    }
   ],
   "source": [
    "x_test.head()"
   ],
   "metadata": {
    "collapsed": false,
    "pycharm": {
     "name": "#%%\n"
    }
   }
  },
  {
   "cell_type": "code",
   "execution_count": 45,
   "outputs": [
    {
     "data": {
      "text/plain": "100   NaN\n101   NaN\n102   NaN\n103   NaN\n104   NaN\nName: Y, dtype: float64"
     },
     "execution_count": 45,
     "metadata": {},
     "output_type": "execute_result"
    }
   ],
   "source": [
    "y_test.head()"
   ],
   "metadata": {
    "collapsed": false,
    "pycharm": {
     "name": "#%%\n"
    }
   }
  },
  {
   "cell_type": "code",
   "execution_count": 46,
   "outputs": [
    {
     "data": {
      "text/plain": "array([ 1256.25147814, -1002.73960538,  3879.95466765,  1053.57564767,\n       -2512.00704809,  1631.97626649,  -121.46981708,  2563.93587106,\n        3880.6718983 , -2171.12570115, -1764.1740434 ,  -885.6415808 ,\n        1627.90109817,  4053.29671496,  3177.74861368,  -711.7545255 ,\n        2412.72924632,  3665.14430827,  2224.79531571,  1316.60232043])"
     },
     "execution_count": 46,
     "metadata": {},
     "output_type": "execute_result"
    }
   ],
   "source": [
    "y_pred = lr.predict(x_test)\n",
    "y_pred"
   ],
   "metadata": {
    "collapsed": false,
    "pycharm": {
     "name": "#%%\n"
    }
   }
  },
  {
   "cell_type": "code",
   "execution_count": 47,
   "outputs": [
    {
     "data": {
      "text/plain": "     x1  x2  x3   x4  x5  x6            Y\n100   8  46  30   32   5   8  1256.251478\n101  10  23  16   27  13  10 -1002.739605\n102   6   9  28   76 -20   6  3879.954668\n103  11  31   3   46 -11  11  1053.575648\n104  12  27   0   98  20  12 -2512.007048\n105   1   5  29  100  -3   1  1631.976266\n106   2   1   1   53 -11   2  -121.469817\n107  35   1   0   48 -11  35  2563.935871\n108  38  47  29   36   4  38  3880.671898\n109  16  25   3   31  18  16 -2171.125701\n110  14  43  10    3  18  14 -1764.174043\n111  23  15   6   54  15  23  -885.641581\n112  37  38  16   20  11  37  1627.901098\n113  34  26  17   29 -11  34  4053.296715\n114  34  37  22   33   1  34  3177.748614\n115   5  27  20   23  10   5  -711.754525\n116  17  34  29   81   3  17  2412.729246\n117  25   0  13   64 -17  25  3665.144308\n118  25  23  12   96  -2  25  2224.795316\n119  18  27  10   88  -1  18  1316.602320",
      "text/html": "<div>\n<style scoped>\n    .dataframe tbody tr th:only-of-type {\n        vertical-align: middle;\n    }\n\n    .dataframe tbody tr th {\n        vertical-align: top;\n    }\n\n    .dataframe thead th {\n        text-align: right;\n    }\n</style>\n<table border=\"1\" class=\"dataframe\">\n  <thead>\n    <tr style=\"text-align: right;\">\n      <th></th>\n      <th>x1</th>\n      <th>x2</th>\n      <th>x3</th>\n      <th>x4</th>\n      <th>x5</th>\n      <th>x6</th>\n      <th>Y</th>\n    </tr>\n  </thead>\n  <tbody>\n    <tr>\n      <th>100</th>\n      <td>8</td>\n      <td>46</td>\n      <td>30</td>\n      <td>32</td>\n      <td>5</td>\n      <td>8</td>\n      <td>1256.251478</td>\n    </tr>\n    <tr>\n      <th>101</th>\n      <td>10</td>\n      <td>23</td>\n      <td>16</td>\n      <td>27</td>\n      <td>13</td>\n      <td>10</td>\n      <td>-1002.739605</td>\n    </tr>\n    <tr>\n      <th>102</th>\n      <td>6</td>\n      <td>9</td>\n      <td>28</td>\n      <td>76</td>\n      <td>-20</td>\n      <td>6</td>\n      <td>3879.954668</td>\n    </tr>\n    <tr>\n      <th>103</th>\n      <td>11</td>\n      <td>31</td>\n      <td>3</td>\n      <td>46</td>\n      <td>-11</td>\n      <td>11</td>\n      <td>1053.575648</td>\n    </tr>\n    <tr>\n      <th>104</th>\n      <td>12</td>\n      <td>27</td>\n      <td>0</td>\n      <td>98</td>\n      <td>20</td>\n      <td>12</td>\n      <td>-2512.007048</td>\n    </tr>\n    <tr>\n      <th>105</th>\n      <td>1</td>\n      <td>5</td>\n      <td>29</td>\n      <td>100</td>\n      <td>-3</td>\n      <td>1</td>\n      <td>1631.976266</td>\n    </tr>\n    <tr>\n      <th>106</th>\n      <td>2</td>\n      <td>1</td>\n      <td>1</td>\n      <td>53</td>\n      <td>-11</td>\n      <td>2</td>\n      <td>-121.469817</td>\n    </tr>\n    <tr>\n      <th>107</th>\n      <td>35</td>\n      <td>1</td>\n      <td>0</td>\n      <td>48</td>\n      <td>-11</td>\n      <td>35</td>\n      <td>2563.935871</td>\n    </tr>\n    <tr>\n      <th>108</th>\n      <td>38</td>\n      <td>47</td>\n      <td>29</td>\n      <td>36</td>\n      <td>4</td>\n      <td>38</td>\n      <td>3880.671898</td>\n    </tr>\n    <tr>\n      <th>109</th>\n      <td>16</td>\n      <td>25</td>\n      <td>3</td>\n      <td>31</td>\n      <td>18</td>\n      <td>16</td>\n      <td>-2171.125701</td>\n    </tr>\n    <tr>\n      <th>110</th>\n      <td>14</td>\n      <td>43</td>\n      <td>10</td>\n      <td>3</td>\n      <td>18</td>\n      <td>14</td>\n      <td>-1764.174043</td>\n    </tr>\n    <tr>\n      <th>111</th>\n      <td>23</td>\n      <td>15</td>\n      <td>6</td>\n      <td>54</td>\n      <td>15</td>\n      <td>23</td>\n      <td>-885.641581</td>\n    </tr>\n    <tr>\n      <th>112</th>\n      <td>37</td>\n      <td>38</td>\n      <td>16</td>\n      <td>20</td>\n      <td>11</td>\n      <td>37</td>\n      <td>1627.901098</td>\n    </tr>\n    <tr>\n      <th>113</th>\n      <td>34</td>\n      <td>26</td>\n      <td>17</td>\n      <td>29</td>\n      <td>-11</td>\n      <td>34</td>\n      <td>4053.296715</td>\n    </tr>\n    <tr>\n      <th>114</th>\n      <td>34</td>\n      <td>37</td>\n      <td>22</td>\n      <td>33</td>\n      <td>1</td>\n      <td>34</td>\n      <td>3177.748614</td>\n    </tr>\n    <tr>\n      <th>115</th>\n      <td>5</td>\n      <td>27</td>\n      <td>20</td>\n      <td>23</td>\n      <td>10</td>\n      <td>5</td>\n      <td>-711.754525</td>\n    </tr>\n    <tr>\n      <th>116</th>\n      <td>17</td>\n      <td>34</td>\n      <td>29</td>\n      <td>81</td>\n      <td>3</td>\n      <td>17</td>\n      <td>2412.729246</td>\n    </tr>\n    <tr>\n      <th>117</th>\n      <td>25</td>\n      <td>0</td>\n      <td>13</td>\n      <td>64</td>\n      <td>-17</td>\n      <td>25</td>\n      <td>3665.144308</td>\n    </tr>\n    <tr>\n      <th>118</th>\n      <td>25</td>\n      <td>23</td>\n      <td>12</td>\n      <td>96</td>\n      <td>-2</td>\n      <td>25</td>\n      <td>2224.795316</td>\n    </tr>\n    <tr>\n      <th>119</th>\n      <td>18</td>\n      <td>27</td>\n      <td>10</td>\n      <td>88</td>\n      <td>-1</td>\n      <td>18</td>\n      <td>1316.602320</td>\n    </tr>\n  </tbody>\n</table>\n</div>"
     },
     "execution_count": 47,
     "metadata": {},
     "output_type": "execute_result"
    }
   ],
   "source": [
    "test_data.loc[:, 'Y'] = y_pred\n",
    "test_data"
   ],
   "metadata": {
    "collapsed": false,
    "pycharm": {
     "name": "#%%\n"
    }
   }
  },
  {
   "cell_type": "code",
   "execution_count": 48,
   "outputs": [
    {
     "data": {
      "text/plain": "     x1  x2  x3  x4  x5  x6            Y\n0     1  37  12  65 -18   1     1.000000\n1    27  14   6  85  11  27   -24.000000\n2    34  13  14  63 -16  34  4092.000000\n3     5  18  24  83  -4   5   121.000000\n4    31  44  10  57  -7  31  2441.000000\n..   ..  ..  ..  ..  ..  ..          ...\n115   5  27  20  23  10   5  -711.754525\n116  17  34  29  81   3  17  2412.729246\n117  25   0  13  64 -17  25  3665.144308\n118  25  23  12  96  -2  25  2224.795316\n119  18  27  10  88  -1  18  1316.602320\n\n[120 rows x 7 columns]",
      "text/html": "<div>\n<style scoped>\n    .dataframe tbody tr th:only-of-type {\n        vertical-align: middle;\n    }\n\n    .dataframe tbody tr th {\n        vertical-align: top;\n    }\n\n    .dataframe thead th {\n        text-align: right;\n    }\n</style>\n<table border=\"1\" class=\"dataframe\">\n  <thead>\n    <tr style=\"text-align: right;\">\n      <th></th>\n      <th>x1</th>\n      <th>x2</th>\n      <th>x3</th>\n      <th>x4</th>\n      <th>x5</th>\n      <th>x6</th>\n      <th>Y</th>\n    </tr>\n  </thead>\n  <tbody>\n    <tr>\n      <th>0</th>\n      <td>1</td>\n      <td>37</td>\n      <td>12</td>\n      <td>65</td>\n      <td>-18</td>\n      <td>1</td>\n      <td>1.000000</td>\n    </tr>\n    <tr>\n      <th>1</th>\n      <td>27</td>\n      <td>14</td>\n      <td>6</td>\n      <td>85</td>\n      <td>11</td>\n      <td>27</td>\n      <td>-24.000000</td>\n    </tr>\n    <tr>\n      <th>2</th>\n      <td>34</td>\n      <td>13</td>\n      <td>14</td>\n      <td>63</td>\n      <td>-16</td>\n      <td>34</td>\n      <td>4092.000000</td>\n    </tr>\n    <tr>\n      <th>3</th>\n      <td>5</td>\n      <td>18</td>\n      <td>24</td>\n      <td>83</td>\n      <td>-4</td>\n      <td>5</td>\n      <td>121.000000</td>\n    </tr>\n    <tr>\n      <th>4</th>\n      <td>31</td>\n      <td>44</td>\n      <td>10</td>\n      <td>57</td>\n      <td>-7</td>\n      <td>31</td>\n      <td>2441.000000</td>\n    </tr>\n    <tr>\n      <th>...</th>\n      <td>...</td>\n      <td>...</td>\n      <td>...</td>\n      <td>...</td>\n      <td>...</td>\n      <td>...</td>\n      <td>...</td>\n    </tr>\n    <tr>\n      <th>115</th>\n      <td>5</td>\n      <td>27</td>\n      <td>20</td>\n      <td>23</td>\n      <td>10</td>\n      <td>5</td>\n      <td>-711.754525</td>\n    </tr>\n    <tr>\n      <th>116</th>\n      <td>17</td>\n      <td>34</td>\n      <td>29</td>\n      <td>81</td>\n      <td>3</td>\n      <td>17</td>\n      <td>2412.729246</td>\n    </tr>\n    <tr>\n      <th>117</th>\n      <td>25</td>\n      <td>0</td>\n      <td>13</td>\n      <td>64</td>\n      <td>-17</td>\n      <td>25</td>\n      <td>3665.144308</td>\n    </tr>\n    <tr>\n      <th>118</th>\n      <td>25</td>\n      <td>23</td>\n      <td>12</td>\n      <td>96</td>\n      <td>-2</td>\n      <td>25</td>\n      <td>2224.795316</td>\n    </tr>\n    <tr>\n      <th>119</th>\n      <td>18</td>\n      <td>27</td>\n      <td>10</td>\n      <td>88</td>\n      <td>-1</td>\n      <td>18</td>\n      <td>1316.602320</td>\n    </tr>\n  </tbody>\n</table>\n<p>120 rows × 7 columns</p>\n</div>"
     },
     "execution_count": 48,
     "metadata": {},
     "output_type": "execute_result"
    }
   ],
   "source": [
    "final_data = pd.concat([train_data, test_data])\n",
    "final_data"
   ],
   "metadata": {
    "collapsed": false,
    "pycharm": {
     "name": "#%%\n"
    }
   }
  },
  {
   "cell_type": "code",
   "execution_count": null,
   "outputs": [],
   "source": [],
   "metadata": {
    "collapsed": false,
    "pycharm": {
     "name": "#%%\n"
    }
   }
  }
 ],
 "metadata": {
  "kernelspec": {
   "display_name": "Python 3",
   "language": "python",
   "name": "python3"
  },
  "language_info": {
   "codemirror_mode": {
    "name": "ipython",
    "version": 2
   },
   "file_extension": ".py",
   "mimetype": "text/x-python",
   "name": "python",
   "nbconvert_exporter": "python",
   "pygments_lexer": "ipython2",
   "version": "2.7.6"
  }
 },
 "nbformat": 4,
 "nbformat_minor": 0
}